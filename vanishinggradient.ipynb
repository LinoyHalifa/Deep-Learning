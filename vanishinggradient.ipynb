{
 "cells": [
  {
   "cell_type": "code",
   "execution_count": 5,
   "id": "8a53fd2b-3201-40c0-819f-af8978c710b8",
   "metadata": {},
   "outputs": [
    {
     "name": "stdout",
     "output_type": "stream",
     "text": [
      "output for large initial weights: \n",
      " [[3.99730269]\n",
      " [3.99730269]]\n",
      "output for small initial weights: \n",
      " [[4.09381337e-09]\n",
      " [4.09381337e-09]]\n"
     ]
    }
   ],
   "source": [
    "import numpy as np\n",
    "import pandas as pd\n",
    "import altair as alt\n",
    "\n",
    "x = np.array([[1],[1]]) # we take here 2 X\n",
    "W_l = np.array([[2, 2], # we take the W matrix and give them big numbers. \n",
    "                [2, 2]])\n",
    "\n",
    "h1 = np.tanh(W_l @ x) #unroll to the network with the same W. \n",
    "h2 = np.tanh(W_l @ h1) # unroll 1 with the same W\n",
    "h3 = np.tanh(W_l @ h2) # unroll 1 with the same W\n",
    "h4 = np.tanh(W_l @ h3) # unroll 1 with the same W\n",
    "h5 = np.tanh(W_l @ h4) # unroll 1 with the same W\n",
    "y_hat = (W_l @ h5) # unroll 1 with the same W\n",
    "print(f'output for large initial weights: \\n {y_hat}')\n",
    "\n",
    "# here we can see that the output for large W is 3.99\n",
    "\n",
    "x = np.array([[1],[1]]) # we take here 2 X\n",
    "W_s = np.array([[0.02, 0.02], # we take the W matrix and give them very small W.\n",
    "                [0.02, 0.02]])\n",
    "\n",
    "h1 = np.tanh(W_s @ x) # unroll 1 with the same W\n",
    "h2 = np.tanh(W_s @ h1) # unroll 1 with the same W\n",
    "h3 = np.tanh(W_s @ h2) # unroll 1 with the same W\n",
    "h4 = np.tanh(W_s @ h3) # unroll 1 with the same W \n",
    "h5 = np.tanh(W_s @ h4) # unroll 1 with the same W \n",
    "y_hat = (W_s @ h5)\n",
    "print(f'output for small initial weights: \\n {y_hat}')\n",
    "\n",
    "# here we can see that the output for very small  W is very small and vanish\n",
    "# this situation is very dangurase because the difrenncees is very large. \n",
    "# this problem is vanish or exploading."
   ]
  },
  {
   "cell_type": "code",
   "execution_count": 4,
   "id": "2ec1ff65-f721-4e06-8ea7-a58e62eb2fa6",
   "metadata": {},
   "outputs": [
    {
     "name": "stdout",
     "output_type": "stream",
     "text": [
      "Collecting altair\n",
      "  Downloading altair-5.5.0-py3-none-any.whl.metadata (11 kB)\n",
      "Requirement already satisfied: jinja2 in c:\\users\\linoyh\\appdata\\local\\anaconda3\\envs\\datascience\\lib\\site-packages (from altair) (3.1.4)\n",
      "Requirement already satisfied: jsonschema>=3.0 in c:\\users\\linoyh\\appdata\\local\\anaconda3\\envs\\datascience\\lib\\site-packages (from altair) (4.23.0)\n",
      "Collecting narwhals>=1.14.2 (from altair)\n",
      "  Downloading narwhals-1.21.1-py3-none-any.whl.metadata (10.0 kB)\n",
      "Requirement already satisfied: packaging in c:\\users\\linoyh\\appdata\\local\\anaconda3\\envs\\datascience\\lib\\site-packages (from altair) (24.1)\n",
      "Requirement already satisfied: typing-extensions>=4.10.0 in c:\\users\\linoyh\\appdata\\local\\anaconda3\\envs\\datascience\\lib\\site-packages (from altair) (4.12.2)\n",
      "Requirement already satisfied: attrs>=22.2.0 in c:\\users\\linoyh\\appdata\\local\\anaconda3\\envs\\datascience\\lib\\site-packages (from jsonschema>=3.0->altair) (24.2.0)\n",
      "Requirement already satisfied: jsonschema-specifications>=2023.03.6 in c:\\users\\linoyh\\appdata\\local\\anaconda3\\envs\\datascience\\lib\\site-packages (from jsonschema>=3.0->altair) (2024.10.1)\n",
      "Requirement already satisfied: referencing>=0.28.4 in c:\\users\\linoyh\\appdata\\local\\anaconda3\\envs\\datascience\\lib\\site-packages (from jsonschema>=3.0->altair) (0.35.1)\n",
      "Requirement already satisfied: rpds-py>=0.7.1 in c:\\users\\linoyh\\appdata\\local\\anaconda3\\envs\\datascience\\lib\\site-packages (from jsonschema>=3.0->altair) (0.20.1)\n",
      "Requirement already satisfied: MarkupSafe>=2.0 in c:\\users\\linoyh\\appdata\\local\\anaconda3\\envs\\datascience\\lib\\site-packages (from jinja2->altair) (3.0.2)\n",
      "Downloading altair-5.5.0-py3-none-any.whl (731 kB)\n",
      "   ---------------------------------------- 0.0/731.2 kB ? eta -:--:--\n",
      "   ---------------------------- ----------- 524.3/731.2 kB 5.6 MB/s eta 0:00:01\n",
      "   ---------------------------------------- 731.2/731.2 kB 1.7 MB/s eta 0:00:00\n",
      "Downloading narwhals-1.21.1-py3-none-any.whl (282 kB)\n",
      "Installing collected packages: narwhals, altair\n",
      "Successfully installed altair-5.5.0 narwhals-1.21.1\n"
     ]
    }
   ],
   "source": [
    "!pip install altair\n"
   ]
  },
  {
   "cell_type": "code",
   "execution_count": null,
   "id": "8f4d862a-a2c4-49ef-9c2d-47776fe3a19c",
   "metadata": {},
   "outputs": [],
   "source": []
  }
 ],
 "metadata": {
  "kernelspec": {
   "display_name": "Python 3 (ipykernel)",
   "language": "python",
   "name": "python3"
  },
  "language_info": {
   "codemirror_mode": {
    "name": "ipython",
    "version": 3
   },
   "file_extension": ".py",
   "mimetype": "text/x-python",
   "name": "python",
   "nbconvert_exporter": "python",
   "pygments_lexer": "ipython3",
   "version": "3.10.6"
  }
 },
 "nbformat": 4,
 "nbformat_minor": 5
}
