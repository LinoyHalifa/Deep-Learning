{
 "cells": [
  {
   "cell_type": "code",
   "execution_count": null,
   "id": "588ba75a-8214-4592-a5b3-8c319776ed7a",
   "metadata": {},
   "outputs": [],
   "source": [
    "# Libraries for this section\n",
    "\n",
    "from keras.layers import Dense, SimpleRNN\n",
    "from keras.models import Sequential\n",
    "import altair as alt\n",
    "import pandas as pd\n",
    "import numpy as np\n",
    "\n",
    "# features\n",
    "X = np.array([[[0, 0, 1, 1]],\n",
    "              [[0, 1, 0, 1]]]).T\n",
    "\n",
    "# expected values\n",
    "y = np.array([[0, 1, 1, 0]]).T\n",
    "\n",
    "print(f'training data shape: {X.shape}')\n",
    "print(f'targets data shape: {y.shape}')\n",
    "\n",
    "# Define a network as a linear stack of layers\n",
    "model = Sequential()\n",
    "\n",
    "# Add a recurrent layer with 2 units\n",
    "model.add(SimpleRNN(2, input_shape=(1, 2)))\n",
    "\n",
    "# Add the output layer with a sigmoid activation\n",
    "model.add(Dense(1, activation='tanh'))\n",
    "\n",
    "model.summary()\n",
    "\n",
    "model.compile(optimizer='Adadelta',\n",
    "              loss='mean_squared_error',\n",
    "              metrics=['acc'])\n",
    "history = model.fit(X, y,\n",
    "                    epochs=5000,\n",
    "                    verbose=0)\n",
    "alt.data_transformers.disable_max_rows()\n",
    "\n",
    "loss = history.history['loss']\n",
    "accuracy = history.history['acc']\n",
    "\n",
    "df = pd.DataFrame({\"accuracy\":accuracy, \"loss\":loss, \"time-step\": np.arange(0, len(accuracy))})\n",
    "\n",
    "base = alt.Chart(df).mark_line(color=\"blue\").encode(x=\"time-step\", y=\"accuracy\")\n",
    "loss = alt.Chart(df).mark_line(color=\"red\").encode(x=\"time-step\", y=\"loss\")\n",
    "((base  + loss).properties(title='Chart 2').resolve_scale(y='independent'))\n",
    "\n"
   ]
  },
  {
   "cell_type": "code",
   "execution_count": null,
   "id": "4b319f26-2d00-4482-9f2e-a3dd54968946",
   "metadata": {},
   "outputs": [],
   "source": []
  }
 ],
 "metadata": {
  "kernelspec": {
   "display_name": "Python 3 (ipykernel)",
   "language": "python",
   "name": "python3"
  },
  "language_info": {
   "codemirror_mode": {
    "name": "ipython",
    "version": 3
   },
   "file_extension": ".py",
   "mimetype": "text/x-python",
   "name": "python",
   "nbconvert_exporter": "python",
   "pygments_lexer": "ipython3",
   "version": "3.10.6"
  }
 },
 "nbformat": 4,
 "nbformat_minor": 5
}
