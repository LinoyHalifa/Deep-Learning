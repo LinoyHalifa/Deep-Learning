{
 "cells": [
  {
   "cell_type": "code",
   "execution_count": null,
   "id": "8a53fd2b-3201-40c0-819f-af8978c710b8",
   "metadata": {},
   "outputs": [],
   "source": [
    "import numpy as np\n",
    "import pandas as pd\n",
    "import altair as alt\n",
    "\n",
    "x = np.array([[1],[1]])\n",
    "W_l = np.array([[2, 2],\n",
    "                [2, 2]])\n",
    "\n",
    "h1 = np.tanh(W_l @ x)\n",
    "h2 = np.tanh(W_l @ h1)\n",
    "h3 = np.tanh(W_l @ h2)\n",
    "h4 = np.tanh(W_l @ h3)\n",
    "h5 = np.tanh(W_l @ h4)\n",
    "y_hat = (W_l @ h5)\n",
    "print(f'output for large initial weights: \\n {y_hat}')\n",
    "\n",
    "x = np.array([[1],[1]])\n",
    "W_s = np.array([[0.02, 0.02],\n",
    "                [0.02, 0.02]])\n",
    "\n",
    "h1 = np.tanh(W_s @ x)\n",
    "h2 = np.tanh(W_s @ h1)\n",
    "h3 = np.tanh(W_s @ h2)\n",
    "h4 = np.tanh(W_s @ h3)\n",
    "h5 = np.tanh(W_s @ h4)\n",
    "y_hat = (W_s @ h5)\n",
    "print(f'output for small initial weights: \\n {y_hat}')"
   ]
  }
 ],
 "metadata": {
  "kernelspec": {
   "display_name": "Python 3 (ipykernel)",
   "language": "python",
   "name": "python3"
  },
  "language_info": {
   "codemirror_mode": {
    "name": "ipython",
    "version": 3
   },
   "file_extension": ".py",
   "mimetype": "text/x-python",
   "name": "python",
   "nbconvert_exporter": "python",
   "pygments_lexer": "ipython3",
   "version": "3.10.6"
  }
 },
 "nbformat": 4,
 "nbformat_minor": 5
}
