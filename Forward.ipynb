{
 "cells": [
  {
   "cell_type": "code",
   "execution_count": 1,
   "id": "ad92cdc8-a4af-41e2-bf20-9b38b80c76cd",
   "metadata": {},
   "outputs": [
    {
     "name": "stdout",
     "output_type": "stream",
     "text": [
      "Network Output: [[0.99559237]]\n",
      "\n",
      "Shapes:\n",
      "X shape: (2, 1)\n",
      "W1 shape: (3, 2)\n",
      "b1 shape: (3, 1)\n",
      "W2 shape: (1, 3)\n",
      "b2 shape: (1, 1)\n"
     ]
    }
   ],
   "source": [
    "import numpy as np\n",
    "\n",
    "def relu(z):\n",
    "    return np.maximum(0, z) #relu function takes the maximun between 0 and z\n",
    "\n",
    "def sigmoid(z):\n",
    "    return 1 / (1 + np.exp(-z)) # sigmoid function\n",
    "\n",
    "\n",
    "def forward_propagation(X, W1, b1, W2, b2): # x, w1, b1 - in the input layers. w2 , b2 - in the hidden layers\n",
    "    # Ensure X is a column vector\n",
    "    X = X.reshape(-1, 1)  # Convert input to column vector . the shape is 2 row and 1 columns \n",
    "\n",
    "    # Hidden Layer\n",
    "    # W1 shape: (num_hidden_neurons, num_input_features)\n",
    "    # X shape: (num_input_features, 1)\n",
    "    z1 = np.dot(W1, X) + b1.reshape(-1, 1) #\"np.dot(w1 , x) - w1*x vectors\n",
    "    a1 = relu(z1) # a1- this is the result of the actication of z1\n",
    "\n",
    "    # Output Layer\n",
    "    # W2 shape: (num_output_neurons, num_hidden_neurons)\n",
    "    # a1 shape: (num_hidden_neurons, 1)\n",
    "    z2 = np.dot(W2, a1) + b2.reshape(-1, 1)\n",
    "    a2 = sigmoid(z2)\n",
    "\n",
    "    return a2\n",
    "\n",
    "\n",
    "# Example Usage\n",
    "# Define input, weights, and biases with correct shapes\n",
    "X = np.array([2, 3])  # input features (2,1)\n",
    "W1 = np.array([[0.1, 0.2], [0.3, 0.4], [0.5, 0.6]])  # (3, 2) matrix\n",
    "b1 = np.array([0.1, 0.2, 0.3])  # (3,1) vector\n",
    "W2 = np.array([[0.7, 0.8, 0.9]])  # (1, 3) matrix\n",
    "b2 = np.array([0.4])  # (1,1) vector\n",
    "\n",
    "output = forward_propagation(X, W1, b1, W2, b2)\n",
    "print(\"Network Output:\", output)\n",
    "\n",
    "# Demonstrate the shapes to verify\n",
    "print(\"\\nShapes:\")\n",
    "print(\"X shape:\", X.reshape(-1, 1).shape)\n",
    "print(\"W1 shape:\", W1.shape)\n",
    "print(\"b1 shape:\", b1.reshape(-1, 1).shape)\n",
    "print(\"W2 shape:\", W2.shape)\n",
    "print(\"b2 shape:\", b2.reshape(-1, 1).shape)"
   ]
  },
  {
   "cell_type": "code",
   "execution_count": null,
   "id": "1a5526d0-8b30-4476-9d61-d439bfb5ad3f",
   "metadata": {},
   "outputs": [],
   "source": []
  }
 ],
 "metadata": {
  "kernelspec": {
   "display_name": "Python 3 (ipykernel)",
   "language": "python",
   "name": "python3"
  },
  "language_info": {
   "codemirror_mode": {
    "name": "ipython",
    "version": 3
   },
   "file_extension": ".py",
   "mimetype": "text/x-python",
   "name": "python",
   "nbconvert_exporter": "python",
   "pygments_lexer": "ipython3",
   "version": "3.10.6"
  }
 },
 "nbformat": 4,
 "nbformat_minor": 5
}
