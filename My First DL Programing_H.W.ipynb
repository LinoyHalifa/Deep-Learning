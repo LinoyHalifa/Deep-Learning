{
 "cells": [
  {
   "cell_type": "code",
   "execution_count": null,
   "id": "f04949d5-25c4-478a-9f56-d71db7e6e290",
   "metadata": {},
   "outputs": [],
   "source": [
    "import numpy as np # This Library Is Fill The All Mathematic Function And Arrays . It's Include The Random Function \n",
    "from tensorflow.keras.models import Sequential \n",
    "#tensorflow - support the all kinds of the nueron networt (Archictecture, how much nueron , activation func which connections etc)\n",
    "\n",
    "\"\"\"\n",
    "keras- it's the same like tensorflow but more simple than tensorflow\n",
    "models - sublibrary in keras. which kind of model we want (series model - Sequential)\n",
    "\n",
    "\"\"\"\n",
    "\n",
    "from tensorflow.keras.layers import Dense, Activation\n",
    "\n",
    "\"\"\"\n",
    "layers - kinds of layers like dense (dense - every one is connected)\n",
    "activation - this define the activation function\n",
    "\n",
    "\"\"\"\n",
    "\n",
    "#basic programming of DL\n",
    "\n",
    "# Generate some sample data\n",
    "X_train = np.random.rand(1000, 10) #generate a random data in X axis 1000 rows and 10 columns. 10 inputs \n",
    "y_train = np.random.randint(0, 2, size=(1000,)) #generate a random numbers in Y axix , 1000 rows with values between 0 to 1. 2 outputs 1 and 0\n",
    "\n",
    "# Define the model\n",
    "model = Sequential() #Sequential: class that open Sequential network - each layer connected to the next layer \n",
    "model.add(Dense(64, input_dim=10)) #dense kinds of layer : that desnse layer has 64 nuerons and the input dimention will be: 10. \n",
    "# it will be connected to our layer that we opened in the previous line (model = Sequential()).\n",
    "# this will generate 640 archs (64*10).\n",
    "# this layer calculate the sigma layer \n",
    "model.add(Activation('relu')) # generate anothe layer with activation function of \"relu\"\n",
    "\n",
    "model.add(Dense(1, activation='sigmoid')) #open another layer - this layer will be the layer of the output and in this output layer we insert \n",
    "# one nueron and the activation will be \"sigmoid\" kind\n",
    "\n",
    "# Compile the model\n",
    "model.compile(loss='binary_crossentropy', optimizer='adam', metrics=['accuracy']) # compile - restart the all nueron and build and restart the all w.\n",
    "# in addition the compile lern by fixing the w. \n",
    "\n",
    "#epochs_values = [10]\n",
    "\n",
    "# Train the model\n",
    "model.fit(X_train, y_train, epochs=10, batch_size=32) # train the model.\n",
    "# Evaluate the model\n",
    "loss, accuracy = model.evaluate(X_train, y_train)\n",
    "print(f'Loss: {loss:.4f}, Accuracy: {accuracy:.4f}')\n",
    "\n",
    "    \n",
    "\n",
    "\n",
    " \n",
    "\n",
    "\n"
   ]
  },
  {
   "cell_type": "code",
   "execution_count": null,
   "id": "c036ddf3-b373-460f-a591-08cbf8259c69",
   "metadata": {},
   "outputs": [],
   "source": []
  }
 ],
 "metadata": {
  "kernelspec": {
   "display_name": "Python 3 (ipykernel)",
   "language": "python",
   "name": "python3"
  },
  "language_info": {
   "codemirror_mode": {
    "name": "ipython",
    "version": 3
   },
   "file_extension": ".py",
   "mimetype": "text/x-python",
   "name": "python",
   "nbconvert_exporter": "python",
   "pygments_lexer": "ipython3",
   "version": "3.10.6"
  }
 },
 "nbformat": 4,
 "nbformat_minor": 5
}
